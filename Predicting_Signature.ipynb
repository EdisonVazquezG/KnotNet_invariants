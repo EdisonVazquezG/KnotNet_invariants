{
  "nbformat": 4,
  "nbformat_minor": 0,
  "metadata": {
    "colab": {
      "provenance": [],
      "gpuType": "V28",
      "authorship_tag": "ABX9TyPUxTGvdfL/Tqed55HyvXFT",
      "include_colab_link": true
    },
    "kernelspec": {
      "name": "python3",
      "display_name": "Python 3"
    },
    "language_info": {
      "name": "python"
    },
    "accelerator": "TPU"
  },
  "cells": [
    {
      "cell_type": "markdown",
      "metadata": {
        "id": "view-in-github",
        "colab_type": "text"
      },
      "source": [
        "<a href=\"https://colab.research.google.com/github/EdisonVazquezG/KnotNet_invariants/blob/main/Predicting_Signature.ipynb\" target=\"_parent\"><img src=\"https://colab.research.google.com/assets/colab-badge.svg\" alt=\"Open In Colab\"/></a>"
      ]
    },
    {
      "cell_type": "code",
      "execution_count": null,
      "metadata": {
        "id": "icbeSZi2upMf"
      },
      "outputs": [],
      "source": [
        "from google.colab import drive\n",
        "import sys\n",
        "drive.mount('/content/drive/')\n",
        "my_path = \"/Colab Notebooks/\" # Your path\n",
        "gdrive_path = \"/content/drive\" + \"/My Drive\" + my_path\n",
        "sys.path.append(gdrive_path)\n",
        "\n",
        "import pandas as pd\n",
        "import numpy as np\n",
        "import tensorflow as tf\n",
        "import torch\n",
        "from sklearn.preprocessing import StandardScaler\n",
        "from tensorflow.keras.models import load_model\n",
        "import torch.optim as optim\n",
        "from tensorflow.keras.callbacks import EarlyStopping\n",
        "import umap\n",
        "import copy\n",
        "import matplotlib.pyplot as plt\n",
        "import torch.nn as nn\n",
        "\n",
        "import knot_utils\n",
        "import knot_ml_models\n",
        "import knot_visualizer\n",
        "\n",
        "import importlib\n",
        "importlib.reload(knot_utils)\n",
        "importlib.reload(knot_ml_models)\n",
        "importlib.reload(knot_visualizer)\n",
        "\n",
        "from knot_utils import scale_data,preprocess,sampling,drop_,split_data\n",
        "from knot_ml_models import build_autoencoder,MLP_single,MLP_combined,train_model,evaluate_model\n",
        "from knot_visualizer import ErrorVisualizer, UMAPVisualizer, PCAVisualizer, SIGNATURE_COLORS\n"
      ]
    },
    {
      "cell_type": "code",
      "source": [
        "A = pd.read_csv(gdrive_path + \"alexander_15.csv\")\n",
        "J = pd.read_csv(gdrive_path  + \"Jones_upto_15_MIRRORS.csv\")\n",
        "H = pd.read_csv(gdrive_path + \"hompfly.csv\")\n",
        "signature = A[['signature']]\n",
        "H_with_signature = copy.deepcopy(H)\n",
        "H_with_signature['signature'] = signature\n",
        "## This will work for just keep certain variables that will help in the posterior analysis\n",
        "J_15 = J[~J['knot_id'].str.contains('!')]\n",
        "H_15 = H.merge(A[['signature']],left_on=H.index,right_on=A.index)"
      ],
      "metadata": {
        "colab": {
          "base_uri": "https://localhost:8080/"
        },
        "id": "iRsDDts6u1Fu",
        "outputId": "87e4716b-d496-4719-a51d-05799d20192b"
      },
      "execution_count": null,
      "outputs": [
        {
          "output_type": "stream",
          "name": "stderr",
          "text": [
            "<ipython-input-4-2830b41fc890>:27: SettingWithCopyWarning: \n",
            "A value is trying to be set on a copy of a slice from a DataFrame.\n",
            "Try using .loc[row_indexer,col_indexer] = value instead\n",
            "\n",
            "See the caveats in the documentation: https://pandas.pydata.org/pandas-docs/stable/user_guide/indexing.html#returning-a-view-versus-a-copy\n",
            "  alexander['knot'] = alexander['number_of_crossings'].astype(str) + '_' + alexander['table_number'].astype(str)\n"
          ]
        }
      ]
    },
    {
      "cell_type": "code",
      "source": [
        "alexander_p, jones_p, H_p= preprocess(J,A,H,True)\n",
        "a_f = alexander_p.drop(columns=[\"Unnamed: 0\"]) ## Must be in the preprocess section\n",
        "a_f = a_f.reset_index(drop=True)\n",
        "j_f = jones_p.reset_index(drop=True)\n",
        "H_f = H_p.reset_index(drop=True)\n",
        "A_cleaned =  drop_(A,145200) ## This will not scaled their coefficients for future analysis\n",
        "a_c = drop_(a_f,145200)\n",
        "j_c = drop_(j_f,145200)\n",
        "H_c = drop_(H_f,145200)\n",
        "signature_c = A_cleaned[['signature']]"
      ],
      "metadata": {
        "id": "OFr4WMeSwhEk"
      },
      "execution_count": null,
      "outputs": []
    },
    {
      "cell_type": "code",
      "source": [
        "# Embeddeds\n",
        "encoder_J = load_model('/content/drive/MyDrive/Colab Notebooks/encoder_jones.h5')\n",
        "encoder_A = load_model('/content/drive/MyDrive/Colab Notebooks/encoder_alexander.h5')\n",
        "encoder_H = load_model('/content/drive/MyDrive/Colab Notebooks/encoder_H.h5')"
      ],
      "metadata": {
        "colab": {
          "base_uri": "https://localhost:8080/"
        },
        "id": "CajtLe5gvIIG",
        "outputId": "1d3c3c99-bb70-4799-bab7-fd9517825157"
      },
      "execution_count": null,
      "outputs": [
        {
          "output_type": "stream",
          "name": "stderr",
          "text": [
            "WARNING:absl:No training configuration found in the save file, so the model was *not* compiled. Compile it manually.\n",
            "WARNING:absl:No training configuration found in the save file, so the model was *not* compiled. Compile it manually.\n",
            "WARNING:absl:No training configuration found in the save file, so the model was *not* compiled. Compile it manually.\n"
          ]
        }
      ]
    },
    {
      "cell_type": "code",
      "source": [
        "\n",
        "# 1. Obtener los embeddings con los encoders\n",
        "emb_j = encoder_J.predict(j_c)\n",
        "emb_a = encoder_A.predict(a_c)\n",
        "emb_h = encoder_H.predict(H_c)\n"
      ],
      "metadata": {
        "colab": {
          "base_uri": "https://localhost:8080/"
        },
        "id": "0itn7Yysxly1",
        "outputId": "f027e686-7ad9-4000-dbe1-e1c7209b756f"
      },
      "execution_count": null,
      "outputs": [
        {
          "output_type": "stream",
          "name": "stdout",
          "text": [
            "\u001b[1m9789/9789\u001b[0m \u001b[32m━━━━━━━━━━━━━━━━━━━━\u001b[0m\u001b[37m\u001b[0m \u001b[1m19s\u001b[0m 2ms/step\n",
            "\u001b[1m9789/9789\u001b[0m \u001b[32m━━━━━━━━━━━━━━━━━━━━\u001b[0m\u001b[37m\u001b[0m \u001b[1m19s\u001b[0m 2ms/step\n",
            "\u001b[1m9789/9789\u001b[0m \u001b[32m━━━━━━━━━━━━━━━━━━━━\u001b[0m\u001b[37m\u001b[0m \u001b[1m19s\u001b[0m 2ms/step\n"
          ]
        }
      ]
    },
    {
      "cell_type": "code",
      "source": [
        "# 4. Concatenar correctamente\n",
        "X = np.concatenate([emb_j, emb_a, emb_h], axis=1)  # Forma final: (n_samples, dim_j + dim_a + dim_h)\n",
        "\n",
        "signature_values = [0, 2, 4, 6, 8, 10, 12]\n",
        "signature_to_class = {sig: idx for idx, sig in enumerate(signature_values)}\n",
        "y = np.array([signature_to_class[val] for val in signature_c['signature']])"
      ],
      "metadata": {
        "id": "3kGAOgPivLhv"
      },
      "execution_count": null,
      "outputs": []
    },
    {
      "cell_type": "code",
      "source": [
        "# ==== 4. División en train/test ====\n",
        "X_train, X_val, y_train, y_val = train_test_split(X, y, test_size=0.2, stratify=y, random_state=42)\n",
        "\n",
        "# Convertir a tensores\n",
        "X_train_tensor = torch.tensor(X_train, dtype=torch.float32)\n",
        "X_val_tensor = torch.tensor(X_val, dtype=torch.float32)\n",
        "y_train_tensor = torch.tensor(y_train, dtype=torch.long)\n",
        "y_val_tensor = torch.tensor(y_val, dtype=torch.long)\n",
        "\n",
        "# DataLoaders\n",
        "batch_size = 256\n",
        "train_loader = DataLoader(TensorDataset(X_train_tensor, y_train_tensor), batch_size=batch_size, shuffle=True)\n",
        "val_loader = DataLoader(TensorDataset(X_val_tensor, y_val_tensor), batch_size=batch_size)\n"
      ],
      "metadata": {
        "id": "z6T2idwrvfY8"
      },
      "execution_count": null,
      "outputs": []
    },
    {
      "cell_type": "code",
      "source": [
        "# ==== 5. Modelo ====\n",
        "class MLP(nn.Module):\n",
        "    def __init__(self, input_dim, num_classes):\n",
        "        super().__init__()\n",
        "        self.net = nn.Sequential(\n",
        "            nn.Linear(input_dim, 128),\n",
        "            nn.ReLU(),\n",
        "            nn.Dropout(0.3),\n",
        "            nn.Linear(128, 64),\n",
        "            nn.ReLU(),\n",
        "            nn.Dropout(0.3),\n",
        "            nn.Linear(64, num_classes)\n",
        "        )\n",
        "\n",
        "    def forward(self, x):\n",
        "        return self.net(x)\n",
        "\n",
        "model = MLP(input_dim=X.shape[1], num_classes=7).to(device)\n"
      ],
      "metadata": {
        "id": "CXcmQrF_3hs5"
      },
      "execution_count": null,
      "outputs": []
    },
    {
      "cell_type": "code",
      "source": [
        "\n",
        "# ==== 6. Ponderación de clases ====\n",
        "class_counts = np.bincount(y)\n",
        "class_weights = 1. / torch.tensor(class_counts, dtype=torch.float32)\n",
        "class_weights = class_weights.to(device)\n",
        "\n",
        "loss_fn = nn.CrossEntropyLoss(weight=class_weights)\n",
        "optimizer = optim.Adam(model.parameters(), lr=1e-3)"
      ],
      "metadata": {
        "id": "N0H12ypW4StI"
      },
      "execution_count": null,
      "outputs": []
    },
    {
      "cell_type": "code",
      "source": [
        "# ==== 7. Entrenamiento ====\n",
        "epochs = 10\n",
        "\n",
        "for epoch in range(epochs):\n",
        "    model.train()\n",
        "    total_loss = 0\n",
        "    for xb, yb in train_loader:\n",
        "        xb, yb = xb.to(device), yb.to(device)\n",
        "\n",
        "        optimizer.zero_grad()\n",
        "        preds = model(xb)\n",
        "        loss = loss_fn(preds, yb)\n",
        "        loss.backward()\n",
        "        optimizer.step()\n",
        "        total_loss += loss.item() * xb.size(0)\n",
        "\n",
        "    avg_loss = total_loss / len(train_loader.dataset)\n",
        "\n",
        "    # Validación\n",
        "    model.eval()\n",
        "    all_preds, all_true = [], []\n",
        "    with torch.no_grad():\n",
        "        for xb, yb in val_loader:\n",
        "            xb = xb.to(device)\n",
        "            preds = model(xb).argmax(dim=1).cpu().numpy()\n",
        "            all_preds.extend(preds)\n",
        "            all_true.extend(yb.numpy())\n",
        "\n",
        "    print(f\"Epoch {epoch+1} | Loss: {avg_loss:.4f}\")\n",
        "\n",
        "\n",
        "\n"
      ],
      "metadata": {
        "colab": {
          "base_uri": "https://localhost:8080/"
        },
        "id": "o222uPvT3jjf",
        "outputId": "88fc4284-e1c5-4f4d-e04d-2763600dffaa"
      },
      "execution_count": null,
      "outputs": [
        {
          "output_type": "stream",
          "name": "stdout",
          "text": [
            "Epoch 1 | Loss: 0.2114\n",
            "Epoch 2 | Loss: 0.0588\n",
            "Epoch 3 | Loss: 0.0426\n",
            "Epoch 4 | Loss: 0.0461\n",
            "Epoch 5 | Loss: 0.0434\n",
            "Epoch 6 | Loss: 0.0346\n",
            "Epoch 7 | Loss: 0.0342\n",
            "Epoch 8 | Loss: 0.0325\n",
            "Epoch 9 | Loss: 0.0295\n",
            "Epoch 10 | Loss: 0.0271\n"
          ]
        }
      ]
    },
    {
      "cell_type": "code",
      "source": [
        "# ==== 8. Reporte ====\n",
        "print(\"\\nReporte de clasificación (validación):\")\n",
        "print(classification_report(all_true, all_preds, target_names=[f\"sig_{s}\" for s in signature_to_class.keys()]))"
      ],
      "metadata": {
        "colab": {
          "base_uri": "https://localhost:8080/"
        },
        "id": "8qY1Pc1V44m_",
        "outputId": "faa16e4f-b07d-46f0-d2f6-0576d62c76d5"
      },
      "execution_count": null,
      "outputs": [
        {
          "output_type": "stream",
          "name": "stdout",
          "text": [
            "\n",
            "Reporte de clasificación (validación):\n",
            "              precision    recall  f1-score   support\n",
            "\n",
            "       sig_0       0.99      0.98      0.98     16003\n",
            "       sig_2       1.00      1.00      1.00     25679\n",
            "       sig_4       0.98      0.99      0.98     14201\n",
            "       sig_6       0.99      0.99      0.99      5411\n",
            "       sig_8       1.00      0.98      0.99      1227\n",
            "      sig_10       0.85      1.00      0.92       121\n",
            "      sig_12       0.57      1.00      0.73         4\n",
            "\n",
            "    accuracy                           0.99     62646\n",
            "   macro avg       0.91      0.99      0.94     62646\n",
            "weighted avg       0.99      0.99      0.99     62646\n",
            "\n"
          ]
        }
      ]
    },
    {
      "cell_type": "code",
      "source": [
        "from sklearn.metrics import confusion_matrix, ConfusionMatrixDisplay\n",
        "import matplotlib.pyplot as plt\n",
        "\n",
        "# y_true: verdaderas etiquetas (clases 0 a 6)\n",
        "# y_pred: etiquetas predichas (clases 0 a 6)\n",
        "\n",
        "cm = confusion_matrix(all_true, all_preds)\n",
        "disp = ConfusionMatrixDisplay(confusion_matrix=cm, display_labels=[0, 2, 4, 6, 8, 10, 12])\n",
        "disp.plot(cmap='Blues', xticks_rotation=45)\n",
        "\n",
        "plt.title(\"Matriz de Confusión\")\n",
        "plt.xlabel(\"Predicción\")\n",
        "plt.ylabel(\"Etiqueta verdadera\")\n",
        "plt.tight_layout()\n",
        "plt.show()\n"
      ],
      "metadata": {
        "colab": {
          "base_uri": "https://localhost:8080/",
          "height": 487
        },
        "id": "rK9jIWxq5kyO",
        "outputId": "4af5c45a-b8c5-47d3-fb92-48ea20dba82e"
      },
      "execution_count": null,
      "outputs": [
        {
          "output_type": "display_data",
          "data": {
            "text/plain": [
              "<Figure size 640x480 with 2 Axes>"
            ],
            "image/png": "[encoded data removed]"
          },
          "metadata": {}
        }
      ]
    }
  ]
}